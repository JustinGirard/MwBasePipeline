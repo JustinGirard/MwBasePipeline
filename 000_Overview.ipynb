{
 "cells": [
  {
   "cell_type": "markdown",
   "metadata": {},
   "source": [
    "# Video overview\n",
    "1. The five minute (15 minute) overview. [Here](https://www.loom.com/share/82a82ff468d54603aafa9932955cdebb)"
   ]
  },
  {
   "cell_type": "markdown",
   "metadata": {},
   "source": [
    "# Local Developer Setup\n",
    "To set up the solution for local development of everything, you will need pull a few git libraries. Put these all in the same directory. You will not need any path variables (as it may be true that a person has multiple branches in development at one time). Please use python 3.6+ and run on linux.\n",
    "1. [findclass](https://github.com/JustinGirard/findclass) This is a simple dynamic class / module locator that Justin uses widely. Maybe one day it will be open sourced for the world.\n",
    "2. [processingNetwork](https://github.com/JustinGirard/processingNetwork) This is a very important graph based dependency resolver that works natively in json to resolve large in memory dependency graphs. Justin uses this as a base class on most projects, and will slowly introduce some really fancy techniques using this module over time (but not in Phase 0, or 1).\n",
    "3. [DataPipeline](http://example.com) This is the **MistyWest** abstract base project for making data pipelines. A lot of pacing, diagraming, and coffee was used in the construction of this base system.\n",
    "4. [MwBasePipeline/pipeline.py](pipeline.py) This is the **MistyWest** Example pipeline. This pipeline (today) grabs some example data via a **Task**, stores it using a **DataLake**, and serves this data using a **Request** where all the dependencies and dev ops related concerns are managed via a **System**. \n",
    "5. [MwBasePipeline/03_PluginExample.ipynb](03_PluginExample.ipynb) This is the **MistyWest** Example plugin. This plugin is extremely simple, and just grabs some financial data for display. The fact that it is only a few lines of code is really great (it means the other layers are doing their jobs well, so far.)\n",
    "\n",
    "**lastly, you will need a creds.json file in the MwBasePipeline/ directory** This is your google service account file.\n"
   ]
  },
  {
   "cell_type": "markdown",
   "metadata": {},
   "source": [
    "# Creating a plugin\n",
    "#### Role: API User \n",
    "Using the API, it is possible to instantly push and pull data from any back end services. Using just a few lines of code a person can develop a plugin that either pushes some data, or visualizes results.\n",
    "1. [Use API DataLake](01_APIQueries_DataLake.ipynb) - how to query a data lake\n",
    "2. [Use API Model](02_APIQueries_Model.ipynb) - how to query a model\n",
    "2. [Developer Plugin Example](03_PluginExample.ipynb) - how to create a whole **plugin**.\n",
    "\n",
    "\n",
    "# The Docs  (Read The Docs)\n",
    "#### Role: Software Developer  (Read The Docs)\n",
    "1. [Deployment Diagram](https://docs.google.com/presentation/d/1GoeAzT2A4gbiRHhLnhfin2ysFDQCAlIbVAjoWxULQ6Q/edit#slide=id.g90712d6c2f_0_712)\n",
    "2. [Static Architecture Diagram](https://docs.google.com/presentation/d/1GoeAzT2A4gbiRHhLnhfin2ysFDQCAlIbVAjoWxULQ6Q/edit#slide=id.g90712d6c2f_0_712)\n",
    "3. [Dataflow Diagram](https://docs.google.com/presentation/d/1GoeAzT2A4gbiRHhLnhfin2ysFDQCAlIbVAjoWxULQ6Q/edit#slide=id.g90712d6c2f_0_712)\n",
    "4. [Use Case + Static Architecture](https://docs.google.com/presentation/d/1GoeAzT2A4gbiRHhLnhfin2ysFDQCAlIbVAjoWxULQ6Q/edit#slide=id.g90712d6c2f_0_712)\n",
    "5. [Local Deployment](https://docs.google.com/presentation/d/1GoeAzT2A4gbiRHhLnhfin2ysFDQCAlIbVAjoWxULQ6Q/edit#slide=id.g90712d6c2f_0_712)\n",
    "6. [Remote Deployment](https://docs.google.com/presentation/d/1GoeAzT2A4gbiRHhLnhfin2ysFDQCAlIbVAjoWxULQ6Q/edit#slide=id.g90712d6c2f_0_712)\n",
    "\n",
    "\n",
    "# Creating a Pipeline\n",
    "#### Role: Software Developer\n",
    "Understand Task,System,Request, DataLake\n",
    "1. [Developer Plugin Example](04_PipelineExample.ipynb) - how to create a whole **pipeline**\n",
    "2. [Template Pipeline to Copy](pipeline.py) - a functional pipeline in development\n",
    "\n",
    "\n",
    "# Administration of Pipeline (In Phase 1)\n",
    "#### Role: Development Operations\n",
    "1. [DevOps] Redeploy / Deploy Pipeline (TBD)\n",
    "2. [DevOps] Schedule and reschedule tasks \n",
    "\n",
    "# Pushing Code to server (In Phase 1)\n",
    "#### Role: Basic Pipeline Extension\n",
    "1. [DevOps] Run & Develop a Request (TBD)\n",
    "2. [DevOps] Run & Develop a Data Lake (TBD)\n",
    "3. [Software] Develop a Pipeline (TBD)\n",
    "\n",
    "\n"
   ]
  },
  {
   "cell_type": "code",
   "execution_count": null,
   "metadata": {},
   "outputs": [],
   "source": [
    "# Other Notes\n"
   ]
  }
 ],
 "metadata": {
  "kernelspec": {
   "display_name": "Python 3",
   "language": "python",
   "name": "python3"
  },
  "language_info": {
   "codemirror_mode": {
    "name": "ipython",
    "version": 3
   },
   "file_extension": ".py",
   "mimetype": "text/x-python",
   "name": "python",
   "nbconvert_exporter": "python",
   "pygments_lexer": "ipython3",
   "version": "3.7.3"
  }
 },
 "nbformat": 4,
 "nbformat_minor": 4
}
