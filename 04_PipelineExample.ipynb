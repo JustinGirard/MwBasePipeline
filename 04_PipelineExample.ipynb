{
 "cells": [
  {
   "cell_type": "markdown",
   "metadata": {},
   "source": [
    "# Pipeline Example\n",
    "### See [pipeline.py](pipeline.py) for example [Business Logic](https://en.wikipedia.org/wiki/Business_logic)\n",
    "This example pipeline demonstrates how to inherit from abstract base classes within the DataPipeline class. To understand the idea of what is going on here, look into the [Factory Design Pattern](https://www.tutorialspoint.com/design_pattern/factory_pattern.htm), the [Facade Pattern](https://en.wikipedia.org/wiki/Facade_pattern), [Microservices Architecture](https://medium.com/hashmapinc/the-what-why-and-how-of-a-microservices-architecture-4179579423a9), [Dependency Injection](https://www.tutorialsteacher.com/ioc/dependency-injection), and last but not least [Reactive Programming](https://en.wikipedia.org/wiki/Reactive_programming).\n",
    "\n",
    "Each of the previous concepts has been followed in the development of this toy example, and each paradigm allows for the software system to enjoy infinite scalability, easy developer onboarding, and a general notion of [seperation of concerns](https://en.wikipedia.org/wiki/Separation_of_concerns).\n",
    "\n",
    "## The Three layers:\n",
    "1. the **DataPipeline** package does error checking, message brokering, security, base classing and other very annoying tasks for the developers\n",
    "2. A **MwBasePipeline** / **pipeline.py** gathers all the platform specific code, setup, deployment, request, and data operations into one place. (A DevOps / pipeline developer will play here)\n",
    "3. A **Plugin** uses a pipeline. This is largely a front-end centric view of a pipeline.\n",
    "\n",
    "In terms of focus the three layers do the following:\n",
    "\n",
    "1. **DataPipeline** Does all the message passing and all the work / error checking\n",
    "2. **\"Client\"Pipeline** Does all the data work [Business Logic](https://en.wikipedia.org/wiki/Business_logic)\n",
    "3. **\"Tool\"Plugin** Does all the visualization, and exists over many platforms.\n",
    " "
   ]
  },
  {
   "cell_type": "code",
   "execution_count": 1,
   "metadata": {},
   "outputs": [],
   "source": [
    "# read pipeline.py to see the example pipeline"
   ]
  },
  {
   "cell_type": "code",
   "execution_count": null,
   "metadata": {},
   "outputs": [],
   "source": []
  }
 ],
 "metadata": {
  "kernelspec": {
   "display_name": "Python 3",
   "language": "python",
   "name": "python3"
  },
  "language_info": {
   "codemirror_mode": {
    "name": "ipython",
    "version": 3
   },
   "file_extension": ".py",
   "mimetype": "text/x-python",
   "name": "python",
   "nbconvert_exporter": "python",
   "pygments_lexer": "ipython3",
   "version": "3.7.3"
  }
 },
 "nbformat": 4,
 "nbformat_minor": 4
}
