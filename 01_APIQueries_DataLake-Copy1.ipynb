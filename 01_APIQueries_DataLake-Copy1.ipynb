{
 "cells": [
  {
   "cell_type": "markdown",
   "metadata": {},
   "source": [
    "# The API Request \n",
    "Every API Request has three pieces, \n",
    "1. 'query_id' - The registered id of the query\n",
    "2. 'api_key' - The API key that is authorized\n",
    "3. 'query': - The Query arguments to be passed into the registered query behind the API\n",
    "\n",
    "The system will return a json value.\n",
    "\n",
    "Once a query is registered for a user, it is very direct to use it globally, wherever the pipeline is deployed. The API can be used locally (mostly for testing and development of new endpoints.) It is generally direct to wrap the API in something like a lambda (AWS) or cloud function (google cloud). "
   ]
  },
  {
   "cell_type": "markdown",
   "metadata": {},
   "source": [
    "# Local API Request : Data Lake push and pull\n",
    "\n",
    "We wish to Push data to a server queries. To do so we will use the Misy West data API. Right away, without deployment, these tools can be used locally. Below we push data using a <key,meta,data> tuple:\n",
    "1. key - all data requires a string based key\n",
    "2. meta - data should be given a descriptive meta data dict (json) which serves to describe the data. The data may be searched using meta data queries.\n",
    "3. data - raw bytes, or data, can be pushed to the API.\n",
    "\n"
   ]
  },
  {
   "cell_type": "code",
   "execution_count": 2,
   "metadata": {},
   "outputs": [
    {
     "name": "stdout",
     "output_type": "stream",
     "text": [
      "PROCESSING... {'query_id': 'datalake_insert', 'api_key': 'API_USER_123', 'query': {'key': 'test_id', 'meta': {'val': 'brian', 'dic': {'lst': 'two'}}, 'data': 'TEST DATA'}} for {'user_id': 'brian123', 'user_meta_data': 'meta_123'}\n",
      "Saved test_id: {'val': 'brian', 'dic': {'lst': 'two'}}\n"
     ]
    }
   ],
   "source": [
    "from pipeline import MwRequest\n",
    "req = MwRequest() \n",
    "result = req.do_input({'query_id':'datalake_insert',\n",
    "                      'api_key':'API_USER_123',\n",
    "                       'query':{'key':'test_id',\n",
    "                                'meta':{'val':'brian','dic':{'lst':'two'}},\n",
    "                                'data':\"TEST DATA\"},},{})\n",
    "if 'error' in result:\n",
    "    print(result['error'])\n",
    "else:\n",
    "    print(result)"
   ]
  },
  {
   "cell_type": "code",
   "execution_count": 2,
   "metadata": {},
   "outputs": [
    {
     "name": "stdout",
     "output_type": "stream",
     "text": [
      "PROCESSING... {'query_id': 'datalake_find', 'api_key': 'API_USER_123', 'query': {'meta': {'val': 'brian'}}} for {'user_id': 'brian123', 'user_meta_data': 'meta_123'}\n",
      "[{'dic': {'lst': 'two'}, '__data': 'TEST DATA', 'val': 'brian'}, {'dic': {'lst': 'two'}, '__data': 'TEST DATA', 'val': 'brian'}]\n"
     ]
    }
   ],
   "source": [
    "result = req.do_input({'query_id':'datalake_find',\n",
    "                      'api_key':'API_USER_123',\n",
    "                       'query':{'meta':{'val':'brian'}},\n",
    "                      },{})\n",
    "\n",
    "if 'error' in result:\n",
    "    print(result['error'])\n",
    "else:\n",
    "    print(result)"
   ]
  },
  {
   "cell_type": "code",
   "execution_count": 3,
   "metadata": {},
   "outputs": [
    {
     "name": "stdout",
     "output_type": "stream",
     "text": [
      "PROCESSING... {'query_id': 'datalake_find', 'api_key': 'API_USER_123', 'query': {'key': 'test_insert'}} for {'user_id': 'brian123', 'user_meta_data': 'meta_123'}\n",
      "[{'val': 'brian', 'dic': {'lst': 'two'}, '__data': 'TEST DATA'}]\n"
     ]
    }
   ],
   "source": [
    "result = req.do_input({'query_id':'datalake_find',\n",
    "                      'api_key':'API_USER_123',\n",
    "                       'query':{'key':'test_insert'},\n",
    "                      },{})\n",
    "\n",
    "if 'error' in result:\n",
    "    print(result['error'])\n",
    "else:\n",
    "    print(result)"
   ]
  },
  {
   "cell_type": "code",
   "execution_count": null,
   "metadata": {},
   "outputs": [],
   "source": []
  }
 ],
 "metadata": {
  "kernelspec": {
   "display_name": "Python 3",
   "language": "python",
   "name": "python3"
  },
  "language_info": {
   "codemirror_mode": {
    "name": "ipython",
    "version": 3
   },
   "file_extension": ".py",
   "mimetype": "text/x-python",
   "name": "python",
   "nbconvert_exporter": "python",
   "pygments_lexer": "ipython3",
   "version": "3.7.3"
  }
 },
 "nbformat": 4,
 "nbformat_minor": 4
}
