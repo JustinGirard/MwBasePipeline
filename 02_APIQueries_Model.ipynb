{
 "cells": [
  {
   "cell_type": "markdown",
   "metadata": {},
   "source": [
    "# The API Request \n",
    "Every API Request has three pieces, \n",
    "1. 'query_id' - The registered id of the query\n",
    "2. 'api_key' - The API key that is authorized\n",
    "3. 'query': - The Query arguments to be passed into the registered query behind the API\n",
    "\n",
    "The system will return a json value.\n",
    "\n",
    "Once a query is registered for a user, it is very direct to use it globally, wherever the pipeline is deployed. The API can be used locally (mostly for testing and development of new endpoints.) It is generally direct to wrap the API in something like a lambda (AWS) or cloud function (google cloud). "
   ]
  },
  {
   "cell_type": "markdown",
   "metadata": {},
   "source": [
    "# Local API Request : Model Query\n",
    "Models provide some kind of \"compiled\" or \"filtered\" view of the world. In this systems view a model is an interface to a...\n",
    "1. table\n",
    "2. function\n",
    "3. AI model\n",
    "4. memory store\n",
    "5. variable\n",
    "\n",
    "In general they are seen as immutable, but a developer is free to include whatever functions they want within a model\n"
   ]
  },
  {
   "cell_type": "code",
   "execution_count": 1,
   "metadata": {},
   "outputs": [],
   "source": [
    "import sys\n",
    "sys.path.append('../')\n",
    "from DataPipeline import APIRequest"
   ]
  },
  {
   "cell_type": "code",
   "execution_count": 4,
   "metadata": {},
   "outputs": [
    {
     "name": "stdout",
     "output_type": "stream",
     "text": [
      "Traceback (most recent call last):\n",
      "  File \"../DataPipeline/Request.py\", line 87, in do_input\n",
      "    assert feature['query_id'] in queries.keys()\n",
      "AssertionError\n",
      "\n"
     ]
    }
   ],
   "source": [
    "#!!!!!!!!!!!! THIS IS NOT IMPLEMENTED!!!!!!!!!!!!!!!!!!!!!!\n",
    "from pipeline import MwRequest\n",
    "req = MwRequest() \n",
    "result = APIRequest.APIRequest.submit({\n",
    "                      'pipeline_id':'MwBasePipeline',\n",
    "                      'query_id':'table_insert',\n",
    "                      'api_key':'API_USER_123',\n",
    "                       'query':{'keys':{'key_1':1,'key_2':'value1234'},\n",
    "                                'fields':{'field_name':'James','anotherfield_height':3.9}},\n",
    "                      })\n",
    "if 'error' in result:\n",
    "    print(result['error'])\n",
    "else:\n",
    "    print(result)\n",
    "    \n",
    "# As you can see, since no query id has been registered, the system just shoots back an error. \n",
    "# This can be solved by creating and regiserting a Model. This will happen in Phase 1!"
   ]
  },
  {
   "cell_type": "code",
   "execution_count": 6,
   "metadata": {},
   "outputs": [
    {
     "name": "stdout",
     "output_type": "stream",
     "text": [
      "Traceback (most recent call last):\n",
      "  File \"../DataPipeline/Request.py\", line 82, in do_input\n",
      "    assert 'api_key' in feature and feature['api_key'] in allowed_keys\n",
      "AssertionError\n",
      "\n"
     ]
    }
   ],
   "source": [
    "#!!!!!!!!!!!! PERMISSIONS ERROR !!!!!!!!!!!!!!!!!!!!!!\n",
    "result = APIRequest.APIRequest.submit({\n",
    "                      'pipeline_id':'MwBasePipeline',    \n",
    "                        'query_id':'table_insert',\n",
    "                      'api_key':'API_USER_12355354545',\n",
    "                       'query':{'keys':{'key_1':1,'key_2':'value1234'},\n",
    "                                'fields':{'field_name':'James','anotherfield_height':3.9}},\n",
    "                      })\n",
    "if 'error' in result:\n",
    "    print(result['error'])\n",
    "else:\n",
    "    print(result)\n",
    "    \n",
    "# Just an example that if an API user is not registered, that they can't use the system"
   ]
  },
  {
   "cell_type": "code",
   "execution_count": null,
   "metadata": {},
   "outputs": [],
   "source": []
  }
 ],
 "metadata": {
  "kernelspec": {
   "display_name": "Python 3",
   "language": "python",
   "name": "python3"
  },
  "language_info": {
   "codemirror_mode": {
    "name": "ipython",
    "version": 3
   },
   "file_extension": ".py",
   "mimetype": "text/x-python",
   "name": "python",
   "nbconvert_exporter": "python",
   "pygments_lexer": "ipython3",
   "version": "3.7.3"
  }
 },
 "nbformat": 4,
 "nbformat_minor": 4
}
