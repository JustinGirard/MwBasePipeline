{
 "cells": [
  {
   "cell_type": "markdown",
   "metadata": {},
   "source": [
    "# Using a generic datalake is pretty simple across ALL services. They wll take Keys, meta values, and data. \n",
    "1. Data is bytes, or a blob, \n",
    "2. meta is a dictionary\n",
    "3. key is a system serchable text key\n",
    "\n",
    "The strongly enforced reality is that across ALL services (AWS, GCP, BigQuery, S3) that the notion of key, meta, data is enforced. This means that all services and systems will be anble to talk to each other and share certain consolidated services:\n",
    "1. they will all have shared standards for key values\n",
    "\n",
    "If the user desires a rich query interface, they should use a \"Model\" within the framework, which supports SQL queries natively. "
   ]
  },
  {
   "cell_type": "code",
   "execution_count": 1,
   "metadata": {},
   "outputs": [
    {
     "name": "stdout",
     "output_type": "stream",
     "text": [
      "Saved test_insert: {'val': 'brian', 'dic': {'lst': 'two'}}\n"
     ]
    }
   ],
   "source": [
    "from pipeline import MwDataLake\n",
    "settings = {\"GOOGLE_APPLICATION_CREDENTIALS\":\"creds.json\", \n",
    "            \"GOOGLE_PROJECT_ID\":'mwdatapipelineex',\n",
    "           \"data_lake_id\":'row',           \n",
    "           }\n",
    "\n",
    "dl = MwDataLake() \n",
    "dl.do_insert({'key':'test_insert','meta':{'val':'brian','dic':{'lst':'two'}},'data':\"TEST DATA\"},settings)\n"
   ]
  },
  {
   "cell_type": "code",
   "execution_count": 2,
   "metadata": {},
   "outputs": [
    {
     "name": "stdout",
     "output_type": "stream",
     "text": [
      "[{'__data': 'TEST DATA', 'dic': {'lst': 'two'}, 'val': 'brian'}]\n"
     ]
    }
   ],
   "source": [
    "results = dl.do_find({'meta':{'val':'brian'}},settings)\n",
    "print(results)"
   ]
  },
  {
   "cell_type": "code",
   "execution_count": 3,
   "metadata": {},
   "outputs": [
    {
     "data": {
      "text/plain": [
       "[{'__data': 'TEST DATA', 'dic': {'lst': 'two'}, 'val': 'brian'}]"
      ]
     },
     "execution_count": 3,
     "metadata": {},
     "output_type": "execute_result"
    }
   ],
   "source": [
    "results = dl.do_find({'key':'test_insert'},settings)\n",
    "results"
   ]
  },
  {
   "cell_type": "code",
   "execution_count": null,
   "metadata": {},
   "outputs": [],
   "source": []
  }
 ],
 "metadata": {
  "kernelspec": {
   "display_name": "Python 3",
   "language": "python",
   "name": "python3"
  },
  "language_info": {
   "codemirror_mode": {
    "name": "ipython",
    "version": 3
   },
   "file_extension": ".py",
   "mimetype": "text/x-python",
   "name": "python",
   "nbconvert_exporter": "python",
   "pygments_lexer": "ipython3",
   "version": "3.7.3"
  }
 },
 "nbformat": 4,
 "nbformat_minor": 4
}
