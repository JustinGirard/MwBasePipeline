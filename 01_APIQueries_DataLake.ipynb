{
 "cells": [
  {
   "cell_type": "markdown",
   "metadata": {},
   "source": [
    "# The API Request \n",
    "Every API Request has three pieces, \n",
    "1. 'query_id' - The registered id of the query\n",
    "2. 'api_key' - The API key that is authorized\n",
    "3. 'query': - The Query arguments to be passed into the registered query behind the API\n",
    "\n",
    "The system will return a json value.\n",
    "\n",
    "Once a query is registered for a user, it is very direct to use it globally, wherever the pipeline is deployed. The API can be used locally (mostly for testing and development of new endpoints.) It is generally direct to wrap the API in something like a lambda (AWS) or cloud function (google cloud). "
   ]
  },
  {
   "cell_type": "markdown",
   "metadata": {},
   "source": [
    "# Local API Request : Data Lake push and pull\n",
    "\n",
    "We wish to Push data to a server queries. To do so we will use the Misy West data API. Right away, without deployment, these tools can be used locally. Below we push data using a <key,meta,data> tuple:\n",
    "1. key - all data requires a string based key\n",
    "2. meta - data should be given a descriptive meta data dict (json) which serves to describe the data. The data may be searched using meta data queries.\n",
    "3. data - raw bytes, or data, can be pushed to the API.\n",
    "\n"
   ]
  },
  {
   "cell_type": "code",
   "execution_count": 1,
   "metadata": {},
   "outputs": [],
   "source": [
    "import sys\n",
    "sys.path.append('../')\n",
    "from DataPipeline import APIRequest\n",
    "#APIRequest.APIRequest.submit"
   ]
  },
  {
   "cell_type": "markdown",
   "metadata": {},
   "source": [
    "# Remote Examples\n",
    "#### IMPORTANT! run python3 flask_api_process.py in the generic pipeline directory to set up the server!"
   ]
  },
  {
   "cell_type": "code",
   "execution_count": 4,
   "metadata": {},
   "outputs": [
    {
     "name": "stdout",
     "output_type": "stream",
     "text": [
      "killed old one\n",
      "<subprocess.Popen object at 0x7fa8fc3ec4e0>\n"
     ]
    }
   ],
   "source": [
    "do_remote_test = True\n",
    "import subprocess\n",
    "remote_post_url = None\n",
    "if do_remote_test:\n",
    "    remote_post_url = 'http://127.0.0.1:5000/'\n",
    "    try:\n",
    "        p.terminate()\n",
    "        print('killed old one')\n",
    "    except:\n",
    "        pass\n",
    "    p = subprocess.Popen( [\"python3\", \"flask_api_process.py\"],cwd='../DataPipeline/' )\n",
    "    #pid = subprocess.run([\"python3\", \"flask_api_process.py\"],cwd='../DataPipeline/')\n",
    "    print(p)\n"
   ]
  },
  {
   "cell_type": "code",
   "execution_count": 5,
   "metadata": {},
   "outputs": [
    {
     "name": "stdout",
     "output_type": "stream",
     "text": [
      "Saved test_id_2: {'val': 'brian', 'dic': {'lst': 'four'}}\n",
      "Saved test_id_2: {'val': 'brian', 'dic': {'lst': 'four'}}\n"
     ]
    }
   ],
   "source": [
    "## TEST REMOTE TASK\n",
    "result = APIRequest.APIRequest.submit({'pipeline_id':'MwBasePipeline', #This is the directory to look for the pipeline.py\n",
    "                       'query_id':'datalake_insert', #This is the function to look for in the registered request\n",
    "                      'api_key':'API_USER_123', #This is the user\n",
    "                       'query':{'key':'test_id_2',\n",
    "                                'meta':{'val':'brian','dic':{'lst':'four'}},\n",
    "                                'data':\"TEST DATA\"},},remote=remote_post_url)\n",
    "print(result)\n",
    "if 'error' in result:\n",
    "    print(result['error'])\n",
    "else:\n",
    "    print(result)\n"
   ]
  },
  {
   "cell_type": "code",
   "execution_count": 6,
   "metadata": {},
   "outputs": [
    {
     "name": "stdout",
     "output_type": "stream",
     "text": [
      "Saved test_id: {'val': 'brian', 'dic': {'lst': 'two'}}\n"
     ]
    }
   ],
   "source": [
    "result = APIRequest.APIRequest.submit({'pipeline_id':'MwBasePipeline',\n",
    "                                       'query_id':'datalake_insert',\n",
    "                      'api_key':'API_USER_123',\n",
    "                       'query':{'key':'test_id',\n",
    "                                'meta':{'val':'brian','dic':{'lst':'two'}},\n",
    "                                'data':\"TEST DATA\"},},remote=remote_post_url)\n",
    "if 'error' in result:\n",
    "    print(result['error'])\n",
    "else:\n",
    "    print(result)"
   ]
  },
  {
   "cell_type": "code",
   "execution_count": 7,
   "metadata": {},
   "outputs": [
    {
     "name": "stdout",
     "output_type": "stream",
     "text": [
      "[{'dic': {'lst': 'two'}, '__data': 'TEST DATA', 'val': 'brian'}, {'__data': 'TEST DATA', 'dic': {'lst': 'four'}, 'val': 'brian'}, {'val': 'brian', '__data': 'TEST DATA', 'dic': {'lst': 'two'}}]\n"
     ]
    }
   ],
   "source": [
    "result =APIRequest.APIRequest.submit({'pipeline_id':'MwBasePipeline',\n",
    "    'query_id':'datalake_find',\n",
    "                      'api_key':'API_USER_123',\n",
    "                       'query':{'meta':{'val':'brian'}},\n",
    "                      },remote=remote_post_url)\n",
    "\n",
    "if 'error' in result:\n",
    "    print(result['error'])\n",
    "else:\n",
    "    print(result)"
   ]
  },
  {
   "cell_type": "code",
   "execution_count": 8,
   "metadata": {},
   "outputs": [
    {
     "name": "stdout",
     "output_type": "stream",
     "text": [
      "[{'val': 'brian', '__data': 'TEST DATA', 'dic': {'lst': 'two'}}]\n"
     ]
    }
   ],
   "source": [
    "result = APIRequest.APIRequest.submit({'pipeline_id':'MwBasePipeline',\n",
    "                                       'query_id':'datalake_find',\n",
    "                      'api_key':'API_USER_123',\n",
    "                       'query':{'key':'test_insert'},\n",
    "                      },remote=remote_post_url)\n",
    "\n",
    "if 'error' in result:\n",
    "    print(result['error'])\n",
    "else:\n",
    "    print(result)"
   ]
  },
  {
   "cell_type": "code",
   "execution_count": null,
   "metadata": {},
   "outputs": [],
   "source": []
  }
 ],
 "metadata": {
  "kernelspec": {
   "display_name": "Python 3",
   "language": "python",
   "name": "python3"
  },
  "language_info": {
   "codemirror_mode": {
    "name": "ipython",
    "version": 3
   },
   "file_extension": ".py",
   "mimetype": "text/x-python",
   "name": "python",
   "nbconvert_exporter": "python",
   "pygments_lexer": "ipython3",
   "version": "3.7.3"
  }
 },
 "nbformat": 4,
 "nbformat_minor": 4
}
